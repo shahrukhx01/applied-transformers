{
 "cells": [
  {
   "cell_type": "markdown",
   "id": "07976e7f",
   "metadata": {},
   "source": [
    "# Goal: \n",
    "Implement the Chunked Cross-Attention proposed by `Improving language models by retrieving from trillions of tokens, Sebastian Borgeaud et. al`\n",
    "# Idea:\n",
    "\n",
    "Given an input to the decoder in the encoder-decoder setting, chunk the input into `l` chunks of length `m`. Then for each chunk retrieve `top_k` nearest neighbors from a vector database. Then perform cross attention between each chunk and its k nearest neighbors.\n"
   ]
  },
  {
   "cell_type": "markdown",
   "id": "4a457d9c",
   "metadata": {},
   "source": [
    "# Chunked Cross-attention"
   ]
  },
  {
   "cell_type": "markdown",
   "id": "e821d19a",
   "metadata": {},
   "source": [
    "In practice you'd shift decoder's input by `m-1` tokens, hence now the input prior to attention would begin from last token of the first chunk and `m-1` tokens from the second chunk and so forth. See image below:\n",
    "\n",
    "<img src='https://miro.medium.com/v2/resize:fit:834/format:webp/1*PW1kX80dwX6mjbZZq4_QGQ.png'/>"
   ]
  },
  {
   "cell_type": "code",
   "execution_count": 1,
   "id": "601809f1",
   "metadata": {},
   "outputs": [],
   "source": [
    "\"\"\"\n",
    "Below is the port of the Jax implementation of chunked cross-attention \n",
    "present in the appendix of the original paper to pytorch.\n",
    "\n",
    "\"\"\"\n",
    "import torch\n",
    "import torch.nn as nn"
   ]
  },
  {
   "cell_type": "code",
   "execution_count": 2,
   "id": "e39258b0",
   "metadata": {},
   "outputs": [],
   "source": [
    "n = 128 # Sequence length\n",
    "m = 16 # Chunk length\n",
    "r = 32 # Retrieval length\n",
    "k = 4 # Number of neighbours\n",
    "d = 16 # Embedding size\n",
    "l = n // m # Number of chunks"
   ]
  },
  {
   "cell_type": "code",
   "execution_count": 3,
   "id": "f3f4b70a",
   "metadata": {},
   "outputs": [],
   "source": [
    "# Parameters\n",
    "Q = nn.Parameter(torch.zeros(d, d))\n",
    "K = nn.Parameter(torch.zeros(d, d))\n",
    "V = nn.Parameter(torch.zeros(d, d))"
   ]
  },
  {
   "cell_type": "code",
   "execution_count": 4,
   "id": "6d2f422b",
   "metadata": {},
   "outputs": [],
   "source": [
    "def relative_positional_encodings(attending_length, attended_length):\n",
    "# Classical relative positional encodings\n",
    "    pass"
   ]
  },
  {
   "cell_type": "code",
   "execution_count": 5,
   "id": "6c2cd619",
   "metadata": {},
   "outputs": [],
   "source": [
    "def cross_attention(chunk, neighbour):\n",
    "    m, d = chunk.shape\n",
    "    r, d = neighbour.shape\n",
    "    queries = chunk @ Q\n",
    "    keys = neighbour @ K\n",
    "    logits = queries @ keys.T\n",
    "    values = neighbour @ V\n",
    "    return logits, values"
   ]
  },
  {
   "cell_type": "code",
   "execution_count": 6,
   "id": "7cc87796",
   "metadata": {},
   "outputs": [],
   "source": [
    "def multi_neighbour_cross_attention(chunk, neighbours):\n",
    "    m, d = chunk.shape\n",
    "    k, r, d = neighbours.shape\n",
    "    \n",
    "    attended_chunk = [cross_attention(chunk, neighbour) for neighbour in neighbours]\n",
    "    \"\"\"\n",
    "    extract logits, and values from each tuple of logits, \n",
    "    values with resulting respective shape: (k, m, r)\n",
    "    \"\"\"\n",
    "    logits = torch.stack([attended_item[0] for attended_item in attended_chunk]) \n",
    "    values = torch.stack([attended_item[1] for attended_item in attended_chunk])\n",
    "    assert logits.shape == (k, m, r)\n",
    "    assert values.shape == (k, r, d)\n",
    "    logits = logits.reshape((m, r * k))\n",
    "    values = values.reshape((r * k, d))\n",
    "    return nn.functional.softmax(logits, dim=-1) @ values"
   ]
  },
  {
   "cell_type": "code",
   "execution_count": 7,
   "id": "cd98163b",
   "metadata": {},
   "outputs": [],
   "source": [
    "def multi_chunk_cross_attention(observation, neighbours):\n",
    "    # shift inputs so that you attend to last token of ith chunk and\n",
    "    # m-1 tokens of (i+1)th chunk\n",
    "    observation[m-1:] = 0\n",
    "    attending_chunks = observation.reshape(l, m, d)\n",
    "    chunked_output = torch.stack([multi_neighbour_cross_attention(attending_chunk, neighbours[idx]) \n",
    "                                  for idx, attending_chunk in enumerate(attending_chunks)]) \n",
    "    assert chunked_output.shape == (l, m, d)\n",
    "    output = chunked_output.reshape(n, d)[:n]\n",
    "    return output"
   ]
  },
  {
   "cell_type": "code",
   "execution_count": 8,
   "id": "e505cd12",
   "metadata": {},
   "outputs": [],
   "source": [
    "# n = 128 # Sequence length\n",
    "# m = 16 # Chunk length\n",
    "# r = 32 # Retrieval length\n",
    "# k = 4 # Number of neighbours\n",
    "# d = 16 # Embedding size\n",
    "# l = n // m # Number of chunks"
   ]
  },
  {
   "cell_type": "code",
   "execution_count": 9,
   "id": "c08d65ff",
   "metadata": {},
   "outputs": [],
   "source": [
    "observation = torch.zeros((n, d)) # Input\n",
    "neighbours = torch.zeros((l, k, r, d))\n",
    "h = multi_chunk_cross_attention(observation, neighbours)\n",
    "assert h.shape == (n, d) # Output"
   ]
  }
 ],
 "metadata": {
  "kernelspec": {
   "display_name": "Python 3",
   "language": "python",
   "name": "python3"
  },
  "language_info": {
   "codemirror_mode": {
    "name": "ipython",
    "version": 3
   },
   "file_extension": ".py",
   "mimetype": "text/x-python",
   "name": "python",
   "nbconvert_exporter": "python",
   "pygments_lexer": "ipython3",
   "version": "3.8.5"
  }
 },
 "nbformat": 4,
 "nbformat_minor": 5
}
